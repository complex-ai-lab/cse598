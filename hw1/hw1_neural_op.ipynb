{
  "cells": [
    {
      "cell_type": "markdown",
      "source": [
        "Install Packages"
      ],
      "metadata": {
        "id": "1NhF8AzWZM63"
      },
      "id": "1NhF8AzWZM63"
    },
    {
      "cell_type": "code",
      "execution_count": null,
      "id": "vnqGpjMBgxo8",
      "metadata": {
        "id": "vnqGpjMBgxo8"
      },
      "outputs": [],
      "source": [
        "!pip install neuraloperator\n",
        "!pip install deepxde"
      ]
    },
    {
      "cell_type": "markdown",
      "source": [
        "**Important**: Since we are using Google Colab make sure to mount your drive and 'cd' into the hw1 folder"
      ],
      "metadata": {
        "id": "Bdx4TMCCZAlJ"
      },
      "id": "Bdx4TMCCZAlJ"
    },
    {
      "cell_type": "code",
      "execution_count": null,
      "id": "QcWeFzj0Edwd",
      "metadata": {
        "id": "QcWeFzj0Edwd"
      },
      "outputs": [],
      "source": [
        "from google.colab import drive\n",
        "drive.mount('/content/drive')"
      ]
    },
    {
      "cell_type": "code",
      "execution_count": null,
      "id": "gMygMjK1El_N",
      "metadata": {
        "id": "gMygMjK1El_N"
      },
      "outputs": [],
      "source": [
        "cd '/YOUR/hw1/PATH/'"
      ]
    },
    {
      "cell_type": "markdown",
      "id": "f849d467-b2a6-4efa-827b-f93b6a9f6053",
      "metadata": {
        "id": "f849d467-b2a6-4efa-827b-f93b6a9f6053"
      },
      "source": [
        "# Part 1: Fourier Neural Operator (FNO)\n",
        "\n",
        "The following libraries will be necessary for your implementation."
      ]
    },
    {
      "cell_type": "code",
      "execution_count": null,
      "id": "d9162981-7ee2-427f-8356-35733c066e47",
      "metadata": {
        "id": "d9162981-7ee2-427f-8356-35733c066e47"
      },
      "outputs": [],
      "source": [
        "import warnings\n",
        "warnings.filterwarnings('ignore')\n",
        "import numpy as np\n",
        "import torch\n",
        "import torch.nn as nn\n",
        "import matplotlib.pyplot as plt\n",
        "from typing import List, Union\n",
        "from neuralop import Trainer\n",
        "from neuralop.data.datasets import load_darcy_flow_small\n",
        "from neuralop.utils import count_model_params\n",
        "from neuralop import LpLoss, H1Loss\n",
        "from fno_block import FourierBlock\n",
        "from spectral_convolution import SpectralConvolution\n",
        "from mlp import MLP\n",
        "\n",
        "# PyTorch random number generator\n",
        "torch.manual_seed(1234)\n",
        "np.random.seed(1234)\n",
        "\n",
        "device = 'cpu'"
      ]
    },
    {
      "cell_type": "markdown",
      "id": "yavEA3oOxvqf",
      "metadata": {
        "id": "yavEA3oOxvqf"
      },
      "source": [
        "---\n",
        "\n",
        "## **Learning Objectives Goals**\n",
        "\n",
        "By the end of this assignment, you will be able to:\n",
        "\n",
        "1.  Construct the FNO architecture by implementing its core components: lifting layers and spectral (Fourier) blocks.\n",
        "2.   Understand the inputs and the outputs of the PDE dataset\n",
        "3. Train and evaluate the FNO on Darcy Flow data to assess model performance.\n",
        "\n",
        "---"
      ]
    },
    {
      "cell_type": "markdown",
      "id": "5oNSKxm6Ei8P",
      "metadata": {
        "id": "5oNSKxm6Ei8P"
      },
      "source": [
        "## Fourier Neural Operator Architecture\n",
        "\n",
        "The Fourier Neural Operator maps functions to functions using a sequence of Fourier-based layers. Below is the original diagram from the paper showing the full FNO pipeline.\n",
        "\n",
        "![FNO Architecture](https://zongyi-li.github.io/neural-operator/img/fourier_full_arch5.png)\n",
        "\n",
        "*Figure 1: Architecture of the Fourier Neural Operator (Li et al., 2020).*\n",
        "[Source](https://arxiv.org/abs/2010.08895)\n"
      ]
    },
    {
      "cell_type": "markdown",
      "id": "cce589a9-c00c-45b3-bb26-0ea13b64dd6e",
      "metadata": {
        "id": "cce589a9-c00c-45b3-bb26-0ea13b64dd6e"
      },
      "source": [
        "### Building the Fourier Neural Operator (FNO)\n",
        "\n",
        "We will implement the Fourier Neural Operator (FNO) class, an advanced neural network model used for solving Partial Differential Equations (PDEs) through deep learning. The FNO utilizes Fourier transformations to learn global representations and can be particularly effective for high-dimensional data.\n",
        "\n",
        "Let's start with the Fourier block which you will implement using the modules `SpectralConvolution` and `MLP`.\n",
        "\n",
        "**Task 1: Implement the forward pass of the FourierBlock**\n",
        "* You are given the constructor and you will have to work on the forward pass."
      ]
    },
    {
      "cell_type": "code",
      "execution_count": null,
      "id": "a394411b-0a16-43a4-b719-f594f4a9a43b",
      "metadata": {
        "id": "a394411b-0a16-43a4-b719-f594f4a9a43b"
      },
      "outputs": [],
      "source": [
        "class FourierBlock(nn.Module):\n",
        "    \"\"\"\n",
        "    Fourier block used in the Fourier Neural Operator (FNO).\n",
        "    Combines spectral convolution, MLP, and convolution layers.\n",
        "    \"\"\"\n",
        "    def __init__(self, modes: Union[List[int], int], in_channels: int, out_channels: int,\n",
        "                 hidden_size: int, activation: nn.Module = nn.GELU()) -> None:\n",
        "        super().__init__()\n",
        "\n",
        "        # Initialize the spectral convolution (Fourier layer)\n",
        "        self.fourier = SpectralConvolution(in_channels, out_channels, modes)\n",
        "\n",
        "        # MLP layer (which will do a linear transformation of the input)\n",
        "        self.mlp = MLP(len(modes), in_channels, out_channels, hidden_size, activation)\n",
        "\n",
        "        # Initialize the 2D convolution layer with kernel size of 3 and padding of 1\n",
        "        self.conv = nn.Conv2d(in_channels, out_channels, 3, padding=1)\n",
        "\n",
        "        # Activation function for the block\n",
        "        self.activation = activation\n",
        "\n",
        "    def forward(self, x: torch.Tensor) -> torch.Tensor:\n",
        "        \"\"\"\n",
        "        Forward pass of the FourierBlock.\n",
        "\n",
        "        Parameters:\n",
        "        ----------\n",
        "        x: torch.Tensor\n",
        "            Input tensor of shape [batch, channels, *sizes]\n",
        "\n",
        "        Returns:\n",
        "        -------\n",
        "        x: torch.Tensor\n",
        "            Output tensor of shape [batch, channels, *sizes]\n",
        "        \"\"\"\n",
        "\n",
        "        # TODO - Apply spectral convolution to input tensor\n",
        "        x_ft = ...\n",
        "\n",
        "        # TODO - Apply 2D convolution to input tensor\n",
        "        x_conv = ...\n",
        "\n",
        "        # Add the Fourier and convolution outputs\n",
        "        x = x_ft + x_conv\n",
        "\n",
        "        # TODO - Apply MLP to the result\n",
        "        x_mlp = ...\n",
        "        x = ...\n",
        "\n",
        "        # TODO - Apply activation function to the final result\n",
        "        return ..."
      ]
    },
    {
      "cell_type": "markdown",
      "id": "e143d2a9",
      "metadata": {
        "id": "e143d2a9"
      },
      "source": [
        "**Task 2: Construst the FNO class**\n",
        "*  Below is the skeleton of the `FNO` class. Certain parts are intentionally left blank for you to complete - **marked TODO for code you need to complete**. Follow the comments to understand what each part should accomplish."
      ]
    },
    {
      "cell_type": "code",
      "execution_count": null,
      "id": "b3d46296",
      "metadata": {
        "id": "b3d46296"
      },
      "outputs": [],
      "source": [
        "class FNO(nn.Module):\n",
        "    \"\"\"\n",
        "    Fourier Neural Operator (FNO) for solving PDEs.\n",
        "    \"\"\"\n",
        "    def __init__(self, modes: List[int], num_fourier_layers: int, in_channels: int,\n",
        "                 lifting_channels: int, projection_channels: int, out_channels: int,\n",
        "                 hidden_channels: int, activation: nn.Module):\n",
        "        super().__init__()\n",
        "        self.dim = len(modes)\n",
        "        self.activation = activation\n",
        "\n",
        "        # Lifting layer\n",
        "        self.lifting = MLP(2, in_channels, hidden_channels, lifting_channels)\n",
        "\n",
        "        # TODO - Initialize a list of num_fourier_layers FourierBlock modules\n",
        "        #        with modes, hidden_channels, hidden_size and activation as parameters.\n",
        "        #        You are free to choose which hidden_size is best for the model\n",
        "        self.fourier_blocks = nn.ModuleList([\n",
        "            ...\n",
        "        ])\n",
        "\n",
        "        # TODO - Use projection layers\n",
        "        self.q1 = ...\n",
        "        self.final = ...\n",
        "\n",
        "    def forward(self, x: torch.Tensor, **kwargs) -> torch.Tensor:\n",
        "        # TODO - Pass input to lifting layer\n",
        "        x = ...\n",
        "\n",
        "        # TODO - Pass the input through each FourierBlock sequentially\n",
        "        for fourier_block in self.fourier_blocks:\n",
        "            x = ...\n",
        "\n",
        "        # Permute the dimensions back to [batch, sizes, channels].\n",
        "        x = x.permute(0, *range(2, self.dim + 2), 1)\n",
        "\n",
        "        # TODO - Apply projection and final layer\n",
        "        x = ...\n",
        "        x = ...\n",
        "        x = ...\n",
        "\n",
        "        # Permute to [batch, channels, sizes] format for output and return.\n",
        "        return x.permute(0, -1, *range(1, self.dim + 1))"
      ]
    },
    {
      "cell_type": "markdown",
      "id": "622c2aa9-35c2-4b93-a03c-c8f56b472c84",
      "metadata": {
        "id": "622c2aa9-35c2-4b93-a03c-c8f56b472c84"
      },
      "source": [
        "## Training the Fourier Neural Operator on Darcy Flow"
      ]
    },
    {
      "cell_type": "markdown",
      "id": "HWgjkqr-IU9N",
      "metadata": {
        "id": "HWgjkqr-IU9N"
      },
      "source": [
        "### **Darcy Flow: Problem Statement**\n",
        "\n",
        "We consider the steady-state form of the 2D Darcy Flow equation on the unit square domain. This is a second-order, linear, elliptic PDE given by:\n",
        "\n",
        "$$\n",
        "-\\nabla \\cdot \\left( a(x) \\nabla u(x) \\right) = f(x), \\quad x \\in (0, 1)^2\n",
        "$$\n",
        "\n",
        "with Dirichlet boundary condition:\n",
        "\n",
        "$$\n",
        "u(x) = 0, \\quad x \\in \\partial(0, 1)^2\n",
        "$$\n",
        "\n",
        "Here:\n",
        "- $a(x) \\in L^\\infty((0, 1)^2; \\mathbb{R}_+)$ is the **diffusion coefficient**\n",
        "- $f(x) \\in L^2((0, 1)^2; \\mathbb{R})$ is the **forcing function**\n",
        "- $u(x)$ is the **solution** (e.g., pressure field)\n",
        "\n",
        "---\n",
        "\n",
        "This PDE arises in many physical systems:\n",
        "- Subsurface fluid pressure in porous media\n",
        "- Deformation of elastic materials\n",
        "- Electric potential in conductive materials\n",
        "\n",
        "We aim to learn the **solution operator** that maps the coefficient $a(x)$ to the solution $u(x)$:\n",
        "\n",
        "$$\n",
        "a(x) \\mapsto u(x)\n",
        "$$\n",
        "\n",
        "Even though the PDE is linear, the solution operator is **nonlinear** due to the dependence on the spatially varying coefficient $a(x)$.\n",
        "\n",
        "\n",
        "---"
      ]
    },
    {
      "cell_type": "markdown",
      "id": "Xyk4Gn-pljZq",
      "metadata": {
        "id": "Xyk4Gn-pljZq"
      },
      "source": [
        "### **Exploring the Darcy Flow Dataset**\n",
        "\n",
        "You will load the data, visualize it, read the description to the dataset can be found [here](https://zenodo.org/records/12784353), and answer reflection questions."
      ]
    },
    {
      "cell_type": "markdown",
      "id": "451222b2-459c-48d1-9a1b-07dedc5cd408",
      "metadata": {
        "id": "451222b2-459c-48d1-9a1b-07dedc5cd408"
      },
      "source": [
        "**Loading the Darcy Flow dataset in 128x128 resolution:**"
      ]
    },
    {
      "cell_type": "code",
      "execution_count": null,
      "id": "ecd849f5-28bb-4e55-a42f-405e7e197ecf",
      "metadata": {
        "colab": {
          "base_uri": "https://localhost:8080/"
        },
        "id": "ecd849f5-28bb-4e55-a42f-405e7e197ecf",
        "outputId": "f020344f-3f6d-44a4-bc67-daf8bf503dc3"
      },
      "outputs": [
        {
          "name": "stdout",
          "output_type": "stream",
          "text": [
            "Loading test db for resolution 16 with 100 samples \n",
            "Loading test db for resolution 32 with 50 samples \n"
          ]
        }
      ],
      "source": [
        "# Load Darcy flow dataset\n",
        "from pathlib import Path\n",
        "\n",
        "data_root = Path(\"../data/\")\n",
        "\n",
        "train_loader, test_loaders, data_processor = load_darcy_flow_small(\n",
        "    n_train=1000,\n",
        "    batch_size=32,\n",
        "    data_root=data_root,\n",
        "    test_resolutions=[16, 32],\n",
        "    n_tests=[100, 50],\n",
        "    test_batch_sizes=[32, 32],\n",
        ")\n",
        "data_processor = data_processor.to(device)"
      ]
    },
    {
      "cell_type": "code",
      "execution_count": null,
      "id": "UqzD1mcGGa5P",
      "metadata": {
        "colab": {
          "base_uri": "https://localhost:8080/"
        },
        "id": "UqzD1mcGGa5P",
        "outputId": "53cc1a6d-3d13-43b5-e5fa-f5414ebceedf"
      },
      "outputs": [
        {
          "name": "stdout",
          "output_type": "stream",
          "text": [
            "Help on function load_darcy_flow_small in module neuralop.data.datasets.darcy:\n",
            "\n",
            "load_darcy_flow_small(n_train, n_tests, batch_size, test_batch_sizes, data_root=PosixPath('/usr/local/lib/python3.11/dist-packages/neuralop/data/datasets/data'), test_resolutions=[16, 32], encode_input=False, encode_output=True, encoding='channel-wise', channel_dim=1)\n",
            "\n"
          ]
        }
      ],
      "source": [
        "help(load_darcy_flow_small)"
      ]
    },
    {
      "cell_type": "markdown",
      "id": "mp_2Qi84ZJPz",
      "metadata": {
        "id": "mp_2Qi84ZJPz"
      },
      "source": [
        "**Run a quick visualization of the input and ground truth data**"
      ]
    },
    {
      "cell_type": "code",
      "execution_count": null,
      "id": "00124c89-f2cb-4ff3-8123-6625ce7331b4",
      "metadata": {
        "colab": {
          "base_uri": "https://localhost:8080/",
          "height": 622
        },
        "id": "00124c89-f2cb-4ff3-8123-6625ce7331b4",
        "outputId": "31d2d357-6578-4ec6-f165-2f8e3dd07a76"
      },
      "outputs": [
        {
          "data": {
            "image/png": "[encoded data removed]",
            "text/plain": [
              "<Figure size 700x700 with 6 Axes>"
            ]
          },
          "metadata": {},
          "output_type": "display_data"
        }
      ],
      "source": [
        "#You can change the resolution from 16 to 32 to see the resolution difference if you'd like.\n",
        "#Note: Because DeepONet trains and tests on same resolution, and our Darcy Flow dataset only contains training\n",
        "# data of resolution 16, testing with 16 here is recommended for a better comparison (in DeepONet section of this HW).\n",
        "test_samples = test_loaders[16].dataset\n",
        "\n",
        "fig = plt.figure(figsize=(7, 7))\n",
        "for index in range(3):\n",
        "    data = test_samples[index]\n",
        "    data = data_processor.preprocess(data, batched=False)\n",
        "    # Input x\n",
        "    x = data['x']\n",
        "    # Ground-truth\n",
        "    y = data['y']\n",
        "\n",
        "    ax = fig.add_subplot(3, 3, index*3 + 1)\n",
        "    ax.imshow(x[0], cmap='gray')\n",
        "    if index == 0:\n",
        "        ax.set_title('Input x')\n",
        "\n",
        "    ax = fig.add_subplot(3, 3, index*3 + 2)\n",
        "    ax.imshow(y.squeeze())\n",
        "    if index == 0:\n",
        "        ax.set_title('Ground-truth y')\n"
      ]
    },
    {
      "cell_type": "markdown",
      "id": "8PHgvelha8VK",
      "metadata": {
        "id": "8PHgvelha8VK"
      },
      "source": [
        "**Task 3: Reflection Prompt**\n",
        "\n",
        "- What is the input x and how does it relate to the Darcy Flow equation?\n",
        "- What does the output y represent in this context?"
      ]
    },
    {
      "cell_type": "markdown",
      "id": "C3myF5qcbOp1",
      "metadata": {
        "id": "C3myF5qcbOp1"
      },
      "source": [
        "<style>\n",
        "  .custom-background {\n",
        "    background-color: #f4eb4eff;\n",
        "    padding: 10px;\n",
        "    border-radius: 5px;\n",
        "  }\n",
        "</style>\n",
        "<div class=\"custom-background\">\n",
        "  Write your response here:\n",
        "</div>\n",
        "\n",
        "*  ...\n",
        "\n",
        "* ..."
      ]
    },
    {
      "cell_type": "markdown",
      "id": "f083b5ee-807b-4045-85b9-533eb1845e71",
      "metadata": {
        "id": "f083b5ee-807b-4045-85b9-533eb1845e71"
      },
      "source": [
        "### FNO Model\n",
        "\n",
        "**Task 4: instance of our FNO model**\n",
        "* Let's create an instance of our FNO model and tune the hyperparameters."
      ]
    },
    {
      "cell_type": "code",
      "execution_count": null,
      "id": "6910b855-f1cf-4967-8011-792bff9832c7",
      "metadata": {
        "id": "6910b855-f1cf-4967-8011-792bff9832c7"
      },
      "outputs": [],
      "source": [
        "# Initialize model\n",
        "# TODO - Tune hyperparameters of FNO;\n",
        "# hint: use small values for channels and no more than 6 layers\n",
        "model = FNO(modes=[16, 16], num_fourier_layers=..., in_channels=1,\n",
        "            lifting_channels=..., hidden_channels=..., projection_channels=...,\n",
        "            out_channels=1, activation=nn.GELU())\n",
        "model = model.to(device)\n",
        "\n",
        "# Count model parameters\n",
        "n_params = count_model_params(model)\n",
        "print(f'\\nModel parameters: {n_params}')"
      ]
    },
    {
      "cell_type": "markdown",
      "id": "71605fb1-5b58-4942-b132-b0e7a8a7179b",
      "metadata": {
        "id": "71605fb1-5b58-4942-b132-b0e7a8a7179b"
      },
      "source": [
        "Create the optimizer and losses."
      ]
    },
    {
      "cell_type": "code",
      "execution_count": null,
      "id": "c3cfae67-0fef-49bb-8139-4ce20aa17bca",
      "metadata": {
        "id": "c3cfae67-0fef-49bb-8139-4ce20aa17bca"
      },
      "outputs": [],
      "source": [
        "# Losses and optimizer\n",
        "optimizer = torch.optim.Adam(model.parameters(), lr=1e-3, weight_decay=1e-4)\n",
        "scheduler = torch.optim.lr_scheduler.CosineAnnealingLR(optimizer, T_max=10)\n",
        "l2loss = LpLoss(d=2, p=2)\n",
        "h1loss = H1Loss(d=2)\n",
        "train_loss = h1loss\n",
        "eval_losses = {'h1': h1loss, 'l2': l2loss}"
      ]
    },
    {
      "cell_type": "markdown",
      "id": "ec744f1a-39f5-40dc-b139-d10c035f535a",
      "metadata": {
        "id": "ec744f1a-39f5-40dc-b139-d10c035f535a"
      },
      "source": [
        "Visualize created instances for model and others."
      ]
    },
    {
      "cell_type": "code",
      "execution_count": null,
      "id": "4f9b88c3-481d-4572-a1f2-14cbe8d61577",
      "metadata": {
        "id": "4f9b88c3-481d-4572-a1f2-14cbe8d61577"
      },
      "outputs": [],
      "source": [
        "print('\\n### MODEL ###\\n', model)\n",
        "print('\\n### OPTIMIZER ###\\n', optimizer)\n",
        "print('\\n### SCHEDULER ###\\n', scheduler)\n",
        "print('\\n### LOSSES ###')\n",
        "print(f'\\n * Train: {train_loss}')\n",
        "print(f'\\n * Test: {eval_losses}')"
      ]
    },
    {
      "cell_type": "markdown",
      "id": "399b39c0-ebab-4e47-a281-26e737acc0f3",
      "metadata": {
        "id": "399b39c0-ebab-4e47-a281-26e737acc0f3"
      },
      "source": [
        "Train the model using the trainer. For 20 epochs, it should take a few minutes only.\n",
        "\n",
        "Aim for your `16_l2` metric (L2 loss in 16x16 resolution images) to be less than 0.5."
      ]
    },
    {
      "cell_type": "code",
      "execution_count": null,
      "id": "d0d11fb7-29f4-4d9c-bf01-fd0b322dbbea",
      "metadata": {
        "id": "d0d11fb7-29f4-4d9c-bf01-fd0b322dbbea"
      },
      "outputs": [],
      "source": [
        "# Train model\n",
        "# eval_interval=3\n",
        "trainer = Trainer(model=model, n_epochs=20, device=device, data_processor=data_processor,\n",
        "                 use_distributed=False, verbose=True)\n",
        "trainer.train(train_loader=train_loader, test_loaders=test_loaders,\n",
        "              optimizer=optimizer, scheduler=scheduler,\n",
        "              regularizer=False, training_loss=train_loss, eval_losses=eval_losses)"
      ]
    },
    {
      "cell_type": "markdown",
      "id": "18527467-6f5e-48ce-b711-378daafd025b",
      "metadata": {
        "id": "18527467-6f5e-48ce-b711-378daafd025b"
      },
      "source": [
        "### Plot the prediction, and compare with the ground-truth\n",
        "\n",
        "**Note:**\n",
        "* We trained on images of low resolution for a small number of epochs. In practice, we would train at larger resolution, on many more samples and epochs.\n",
        "* However, for practicality, we created a minimal example that:\n",
        "  - fits in just a few Mb of memory\n",
        "  - can be trained quickly on CPU\n",
        "\n",
        "In practice we would train a Neural Operator on one or multiple GPUs."
      ]
    },
    {
      "cell_type": "code",
      "execution_count": null,
      "id": "f509f74f-2a53-43de-8707-a3ccb03dc332",
      "metadata": {
        "colab": {
          "base_uri": "https://localhost:8080/",
          "height": 708
        },
        "id": "f509f74f-2a53-43de-8707-a3ccb03dc332",
        "outputId": "54bde3b5-3118-4496-c83e-f72d7f307ac2"
      },
      "outputs": [
        {
          "data": {
            "image/png": "[encoded data removed]",
            "text/plain": [
              "<Figure size 700x700 with 9 Axes>"
            ]
          },
          "metadata": {},
          "output_type": "display_data"
        }
      ],
      "source": [
        "# Visualization of predictions\n",
        "test_samples = test_loaders[32].dataset\n",
        "fig = plt.figure(figsize=(7, 7))\n",
        "for index in range(3):\n",
        "    data = test_samples[index]\n",
        "    data = data_processor.preprocess(data, batched=False)\n",
        "    x = data['x']\n",
        "    y = data['y']\n",
        "    out = model(x.unsqueeze(0))\n",
        "\n",
        "    ax = fig.add_subplot(3, 3, index*3 + 1)\n",
        "    ax.imshow(x[0], cmap='gray')\n",
        "    if index == 0:\n",
        "        ax.set_title('Input x')\n",
        "\n",
        "    ax = fig.add_subplot(3, 3, index*3 + 2)\n",
        "    ax.imshow(y.squeeze())\n",
        "    if index == 0:\n",
        "        ax.set_title('Ground-truth y')\n",
        "\n",
        "    ax = fig.add_subplot(3, 3, index*3 + 3)\n",
        "    ax.imshow(out.squeeze().detach().numpy())\n",
        "    if index == 0:\n",
        "        ax.set_title('Model prediction')\n",
        "\n",
        "fig.suptitle('Inputs, Ground-truth, and Model Prediction')\n",
        "plt.tight_layout()\n",
        "plt.savefig('neural_ops_output.png', dpi=500, bbox_inches='tight')\n",
        "plt.show()"
      ]
    },
    {
      "cell_type": "markdown",
      "id": "7106f8d3-1f1e-462d-ad11-e72a96d521e4",
      "metadata": {
        "id": "7106f8d3-1f1e-462d-ad11-e72a96d521e4"
      },
      "source": [
        "# Part 2: DeepONets\n",
        "\n",
        "In this section, you will implement the DeepONet class, another advanced neural network model used for solving Partial Differential Equations (PDEs) through deep learning. The trunk and branch method in DeepONet allows for the separation of input functions and locations, enabling efficient and flexible learning of nonlinear operators by independently processing the function space and input space.\n",
        "\n",
        "Below is the skeleton of the `DeepONet` class. Certain parts are intentionally left blank for you to complete - **marked TODO for code you need to complete**. Follow the comments to understand what each part should accomplish."
      ]
    },
    {
      "cell_type": "markdown",
      "id": "v3m2l-iKNO5A",
      "metadata": {
        "id": "v3m2l-iKNO5A"
      },
      "source": [
        "![Deep ONet Architecture](https://media.springernature.com/full/springer-static/image/art%3A10.1038%2Fs42256-021-00302-5/MediaObjects/42256_2021_302_Fig1_HTML.png?as=webp)\n",
        "\n",
        "*Figure 1: Illustrations of the problem set-up and new architectures of DeepONets that lead to good generalization. (Lu et al., 2021).*\n",
        "[Source](https://www.nature.com/articles/s42256-021-00302-5)"
      ]
    },
    {
      "cell_type": "markdown",
      "id": "p_yHlv32yyGV",
      "metadata": {
        "id": "p_yHlv32yyGV"
      },
      "source": [
        "---\n",
        "\n",
        "## **Learning Objectives Goals**\n",
        "\n",
        "By the end of this assignment, you will be able to:\n",
        "\n",
        "1.  Construct the DeepONet architecture by implementing its two key components: the branch network (which encodes input functions) and the trunk network (which encodes evaluation coordinates).\n",
        "\n",
        "2. Understand the role of each sub-network in the DeepONet framework, and how their outputs are combined to approximate an operator that maps input functions to solution functions.\n",
        "\n",
        "---\n",
        "\n",
        "<!-- **Goals**\n",
        "\n",
        "1.   Construct Architecture\n",
        "2.   Understanding what goes into each module branch and trunk -->\n",
        "\n"
      ]
    },
    {
      "cell_type": "code",
      "execution_count": null,
      "id": "381559c5",
      "metadata": {
        "id": "381559c5"
      },
      "outputs": [],
      "source": [
        "import torch\n",
        "import torch.nn as nn\n",
        "import numpy as np\n",
        "import torch.optim as optim"
      ]
    },
    {
      "cell_type": "markdown",
      "id": "62e4651d-b08c-4508-9c83-15e9f20bf2f4",
      "metadata": {
        "id": "62e4651d-b08c-4508-9c83-15e9f20bf2f4"
      },
      "source": [
        "### Training with DeepONet in Darcy flow"
      ]
    },
    {
      "cell_type": "markdown",
      "id": "30ce4cd3-9fdc-45a4-813c-495290d54488",
      "metadata": {
        "id": "30ce4cd3-9fdc-45a4-813c-495290d54488"
      },
      "source": [
        "**Loading and extracting the Darcy Flow small dataset:**"
      ]
    },
    {
      "cell_type": "markdown",
      "id": "DAGjnR-IdQox",
      "metadata": {
        "id": "DAGjnR-IdQox"
      },
      "source": [
        "Data Preparation\n",
        "\n",
        "**Task 5: Create 2D spatial coordinates**"
      ]
    },
    {
      "cell_type": "code",
      "execution_count": null,
      "id": "FidZyU5SdJ_f",
      "metadata": {
        "id": "FidZyU5SdJ_f"
      },
      "outputs": [],
      "source": [
        "# Load the Darcy flow dataset and reshape the input functions (u) and outputs (y) for DeepONet.\n",
        "\n",
        "# Load Darcy Flow data\n",
        "train_data = torch.load(\"../data/darcy_train_16.pt\")\n",
        "test_data = torch.load(\"../data/darcy_test_16.pt\")\n",
        "\n",
        "x_train = train_data[\"x\"].float()  # shape: (1000, 16, 16)\n",
        "y_train = train_data[\"y\"].float()\n",
        "x_test = test_data[\"x\"].float()\n",
        "y_test = test_data[\"y\"].float()\n",
        "\n",
        "# Flatten function input (u values) for branch net\n",
        "X_branch_train = x_train.reshape(x_train.shape[0], -1)  # (1000, 256)\n",
        "Y_branch_train = y_train.reshape(y_train.shape[0], -1)\n",
        "X_branch_test = x_test.reshape(x_test.shape[0], -1)\n",
        "\n",
        "\n",
        "# Trunk input:\n",
        "# TODO: Create 2D spatial coordinates (shared across all samples)\n",
        "H, W = x_train.shape[1], x_train.shape[2]\n",
        "grid_x, grid_y = ...\n",
        "X_trunk = ...  # (256, 2)\n"
      ]
    },
    {
      "cell_type": "markdown",
      "id": "6FUw7jkYdgBo",
      "metadata": {
        "id": "6FUw7jkYdgBo"
      },
      "source": [
        "Model Definition (Unstacked DeepONet)\n",
        "\n",
        "**Task 6: Implement DeepONet**\n",
        "* Implement a simple dense neural net used for both branch and trunk\n",
        "* Create the unstacked DeepONet class"
      ]
    },
    {
      "cell_type": "code",
      "execution_count": null,
      "id": "9ZH4Ja-4dLvG",
      "metadata": {
        "id": "9ZH4Ja-4dLvG"
      },
      "outputs": [],
      "source": [
        "# TODO: Implement a simple dense neural net used for both branch and trunk\n",
        "class DenseNet(nn.Module):\n",
        "    def __init__(self, layers, activation=nn.ReLU):\n",
        "        super().__init__()\n",
        "        net = []\n",
        "        # TODO: Build a nn.Sequential MLP using `layers` and the activation function\n",
        "        for ...\n",
        "\n",
        "        self.net = nn.Sequential(*net)\n",
        "\n",
        "    def forward(self, x):\n",
        "        # TODO: Forward through the built MLP and return the output\n",
        "        return ...\n",
        "\n",
        "\n",
        "# TODO: Create the unstacked DeepONet class using einsum to merge outputs from branch and trunk networks.\n",
        "class DeepONet(nn.Module):\n",
        "    \"\"\"\n",
        "    Unstacked DeepONet: merges branch and trunk outputs via an inner product.\n",
        "\n",
        "    branch_net: maps input function samples u -> R^p      (shape: [B, p])\n",
        "    trunk_net:  maps coords x -> R^p                      (shape: [N, p])\n",
        "\n",
        "    \"\"\"\n",
        "    def __init__(self, branch_layers, trunk_layers):\n",
        "        super().__init__()\n",
        "        # TODO: Instantiate branch and trunk networks with DenseNet\n",
        "        self.branch_net = ...\n",
        "        self.trunk_net = ...\n",
        "\n",
        "    def forward(self, u, coords):\n",
        "        \"\"\"\n",
        "        u:      [B, u_dim]\n",
        "        coords: [N, x_dim]\n",
        "        Returns:\n",
        "            y:  [B, N]\n",
        "        \"\"\"\n",
        "        # TODO: Compute branch and trunk\n",
        "        branch_out = ...\n",
        "        trunk_out = ...\n",
        "         # TODO: Merge with einsum\n",
        "         # Hint: https://stackoverflow.com/questions/26089893/understanding-numpys-einsum\n",
        "        return ...\n"
      ]
    },
    {
      "cell_type": "code",
      "execution_count": null,
      "id": "55zYkT7KdtbK",
      "metadata": {
        "id": "55zYkT7KdtbK"
      },
      "outputs": [],
      "source": [
        "class LpLoss(object):\n",
        "    '''\n",
        "    loss function with rel/abs Lp loss\n",
        "    from https://github.com/neuraloperator/physics_informed/blob/master/train_utils/losses.py#L152\n",
        "    '''\n",
        "    def __init__(self, d=2, p=2, size_average=True, reduction=True):\n",
        "        super(LpLoss, self).__init__()\n",
        "\n",
        "        #Dimension and Lp-norm type are postive\n",
        "        assert d > 0 and p > 0\n",
        "\n",
        "        self.d = d\n",
        "        self.p = p\n",
        "        self.reduction = reduction\n",
        "        self.size_average = size_average\n",
        "\n",
        "    def abs(self, x, y):\n",
        "        num_examples = x.size()[0]\n",
        "\n",
        "        #Assume uniform mesh\n",
        "        h = 1.0 / (x.size()[1] - 1.0)\n",
        "\n",
        "        all_norms = (h**(self.d/self.p))*torch.norm(x.view(num_examples,-1) - y.view(num_examples,-1), self.p, 1)\n",
        "\n",
        "        if self.reduction:\n",
        "            if self.size_average:\n",
        "                return torch.mean(all_norms)\n",
        "            else:\n",
        "                return torch.sum(all_norms)\n",
        "\n",
        "        return all_norms"
      ]
    },
    {
      "cell_type": "markdown",
      "source": [
        "**Task 7: Train your DeepONet**\n",
        "* Define and tune hyperparameters\n",
        "* Define your DeeopONet model\n",
        "* Train the DeeopONet model"
      ],
      "metadata": {
        "id": "hpz4IfI6b63o"
      },
      "id": "hpz4IfI6b63o"
    },
    {
      "cell_type": "code",
      "execution_count": null,
      "id": "Ha-E7Egkda-a",
      "metadata": {
        "id": "Ha-E7Egkda-a"
      },
      "outputs": [],
      "source": [
        "\n",
        "# TODO: Hyperparameters\n",
        "num_epochs = ...\n",
        "learning_rate = ...\n",
        "\n",
        "# Model initialization\n",
        "in_dim = x_train.shape[-1] * x_train.shape[-2]  # 16×16 = 256\n",
        "#TODO: Define branch and trunk layers\n",
        "branch_layers = [in_dim, ..., ...]\n",
        "trunk_layers = ...\n",
        "\n",
        "model = DeepONet(branch_layers, trunk_layers).to(device)\n",
        "\n",
        "# Optimizer and loss\n",
        "optimizer = optim.Adam(model.parameters(), lr=learning_rate)\n",
        "loss_fn = LpLoss(size_average=True)\n",
        "\n",
        "# TODO: Implement the training loop to minimize L2 loss over the predicted and true outputs.\n",
        "# Training loop\n",
        "for epoch in range(num_epochs):\n",
        "    model.train()\n",
        "    optimizer.zero_grad()\n",
        "\n",
        "    # TODO: Forward pass\n",
        "    pred = ...\n",
        "\n",
        "    # TODO: Compute loss\n",
        "    loss = ...\n",
        "\n",
        "    # TODO: Backpropagation\n",
        "    ...\n",
        "    ...\n",
        "\n",
        "    # Logging\n",
        "    if epoch % 100 == 0 or epoch == num_epochs - 1:\n",
        "        print(f\"Epoch {epoch}: Train Lp Loss = {loss.item():.6f}\")\n"
      ]
    },
    {
      "cell_type": "markdown",
      "id": "HtgC1_oMMGbq",
      "metadata": {
        "id": "HtgC1_oMMGbq"
      },
      "source": [
        "Plot the prediction and compare with the ground-truth data"
      ]
    },
    {
      "cell_type": "code",
      "execution_count": null,
      "id": "IA302SLQgz2v",
      "metadata": {
        "colab": {
          "base_uri": "https://localhost:8080/",
          "height": 904
        },
        "id": "IA302SLQgz2v",
        "outputId": "95e1a453-813c-4310-aad8-a0215e030f6f"
      },
      "outputs": [
        {
          "data": {
            "image/png": "[encoded data removed]",
            "text/plain": [
              "<Figure size 900x900 with 9 Axes>"
            ]
          },
          "metadata": {},
          "output_type": "display_data"
        }
      ],
      "source": [
        "import matplotlib.pyplot as plt\n",
        "\n",
        "# Number of samples to visualize\n",
        "num_samples = 3\n",
        "\n",
        "fig, axes = plt.subplots(num_samples, 3, figsize=(9, 3 * num_samples))\n",
        "titles = ['Input $x$', 'Ground-truth $y$', 'Model prediction']\n",
        "\n",
        "sample_indices = torch.randperm(len(x_test))[:num_samples]\n",
        "\n",
        "model.eval()\n",
        "with torch.no_grad():\n",
        "    preds = model(X_branch_test.to(device), torch.tensor(X_trunk, dtype=torch.float32, device=device)).cpu()\n",
        "preds_cpu = preds.cpu().detach()\n",
        "\n",
        "for i, idx in enumerate(sample_indices):\n",
        "    input_field = x_test[idx].cpu().squeeze().reshape(16, 16)\n",
        "    true_output = y_test[idx].cpu().squeeze().reshape(16, 16)\n",
        "    pred_output = preds_cpu[idx].squeeze().reshape(16, 16)\n",
        "\n",
        "    for j, (data, cmap) in enumerate(zip(\n",
        "        [input_field, true_output, pred_output],\n",
        "        ['gray', 'viridis', 'viridis']  # grayscale only for input\n",
        "    )):\n",
        "        ax = axes[i, j] if num_samples > 1 else axes[j]\n",
        "        ax.imshow(data, cmap=cmap)\n",
        "        ax.set_xticks([])\n",
        "        ax.set_yticks([])\n",
        "        if i == 0:\n",
        "            ax.set_title(titles[j], fontsize=12)\n",
        "\n",
        "plt.suptitle(\"Inputs, Ground-truth, and Model Prediction\", fontsize=14)\n",
        "plt.tight_layout()\n",
        "plt.show()\n"
      ]
    }
  ],
  "metadata": {
    "colab": {
      "provenance": [],
      "toc_visible": true
    },
    "kernelspec": {
      "display_name": "cse598",
      "language": "python",
      "name": "python3"
    },
    "language_info": {
      "codemirror_mode": {
        "name": "ipython",
        "version": 3
      },
      "file_extension": ".py",
      "mimetype": "text/x-python",
      "name": "python",
      "nbconvert_exporter": "python",
      "pygments_lexer": "ipython3",
      "version": "3.12.7"
    }
  },
  "nbformat": 4,
  "nbformat_minor": 5
}